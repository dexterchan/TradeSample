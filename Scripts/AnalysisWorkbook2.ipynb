{
 "cells": [
  {
   "cell_type": "code",
   "execution_count": 58,
   "metadata": {
    "collapsed": true
   },
   "outputs": [],
   "source": [
    "from TradeGenerator import *\n",
    "import matplotlib.pyplot as plt"
   ]
  },
  {
   "cell_type": "code",
   "execution_count": 59,
   "metadata": {
    "collapsed": true
   },
   "outputs": [],
   "source": [
    "file_name=\"rawTrade.csv\"\n",
    "import os.path\n",
    "import pandas as pds\n",
    "numOfClusters=4\n",
    "trainingDataSize=330"
   ]
  },
  {
   "cell_type": "code",
   "execution_count": 60,
   "metadata": {},
   "outputs": [],
   "source": [
    "if( os.path.isfile(file_name)  ):\n",
    "    rawdf = pds.read_csv(file_name)\n",
    "else:\n",
    "    t = TradeGenerator()\n",
    "    tList = t.prepareTradeList(tradingdays=360)\n",
    "    rawdf = t.tradeListConvert2DataFrame(tList)\n",
    "    rawdf.to_csv(file_name,index=False)\n",
    "    \n",
    "\n",
    "rawdf[\"total\"] = rawdf[\"price\"] * rawdf[\"quantity\"]\n",
    "df=rawdf\n",
    "\n",
    "df=df.drop(\"tradeId\",axis=1)"
   ]
  },
  {
   "cell_type": "code",
   "execution_count": 61,
   "metadata": {
    "collapsed": true
   },
   "outputs": [],
   "source": [
    "from sklearn.base import BaseEstimator, TransformerMixin\n",
    "from IPython.core.debugger import set_trace\n",
    "\n",
    "class CategoryEncoder(BaseEstimator, TransformerMixin):\n",
    "    def __init__(self, attribute): # no *args or **kargs\n",
    "        self.attribute = attribute\n",
    "    def fit(self, X):\n",
    "        return self  # nothing else to do\n",
    "    def transform(self, X, y=None):\n",
    "        #set_trace()\n",
    "        _encoded, _categories = X[self.attribute].factorize()\n",
    "        self.categoriesIndex = _categories\n",
    "        X[self.attribute+\"_cat\"] = _encoded\n",
    "        X.drop(self.attribute,axis=1 ,inplace=True)\n",
    "        return X\n",
    "        "
   ]
  },
  {
   "cell_type": "code",
   "execution_count": 62,
   "metadata": {
    "collapsed": true
   },
   "outputs": [],
   "source": [
    "from sklearn.preprocessing import StandardScaler\n",
    "OrgTypeCategoryEncoder = CategoryEncoder(\"orgType\")\n",
    "CustCategoryEncoder = CategoryEncoder(\"cust\")\n",
    "SecCategoryEncoder = CategoryEncoder(\"secid\")\n",
    "from sklearn.pipeline import Pipeline\n",
    "from sklearn.preprocessing import StandardScaler\n",
    "\n",
    "num_pipeline = Pipeline([\n",
    "        ('OrgType', OrgTypeCategoryEncoder),\n",
    "        ('Cust', CustCategoryEncoder),\n",
    "            ('Sec', SecCategoryEncoder)\n",
    "    ])"
   ]
  },
  {
   "cell_type": "code",
   "execution_count": 63,
   "metadata": {},
   "outputs": [],
   "source": [
    "newdf=num_pipeline.fit_transform(df)"
   ]
  },
  {
   "cell_type": "code",
   "execution_count": 64,
   "metadata": {},
   "outputs": [],
   "source": [
    "secIdInx = newdf[\"secid_cat\"]\n",
    "newdf = newdf.drop(\"secid_cat\",axis=1)"
   ]
  },
  {
   "cell_type": "code",
   "execution_count": 65,
   "metadata": {},
   "outputs": [
    {
     "data": {
      "text/html": [
       "<div>\n",
       "<table border=\"1\" class=\"dataframe\">\n",
       "  <thead>\n",
       "    <tr style=\"text-align: right;\">\n",
       "      <th></th>\n",
       "      <th>day</th>\n",
       "      <th>price</th>\n",
       "      <th>quantity</th>\n",
       "      <th>total</th>\n",
       "      <th>orgType_cat</th>\n",
       "      <th>cust_cat</th>\n",
       "    </tr>\n",
       "  </thead>\n",
       "  <tbody>\n",
       "    <tr>\n",
       "      <th>0</th>\n",
       "      <td>0</td>\n",
       "      <td>98</td>\n",
       "      <td>5817950</td>\n",
       "      <td>570159100</td>\n",
       "      <td>0</td>\n",
       "      <td>0</td>\n",
       "    </tr>\n",
       "    <tr>\n",
       "      <th>1</th>\n",
       "      <td>1</td>\n",
       "      <td>111</td>\n",
       "      <td>8967678</td>\n",
       "      <td>995412258</td>\n",
       "      <td>1</td>\n",
       "      <td>0</td>\n",
       "    </tr>\n",
       "    <tr>\n",
       "      <th>360</th>\n",
       "      <td>0</td>\n",
       "      <td>93</td>\n",
       "      <td>3147146</td>\n",
       "      <td>292684578</td>\n",
       "      <td>1</td>\n",
       "      <td>1</td>\n",
       "    </tr>\n",
       "    <tr>\n",
       "      <th>361</th>\n",
       "      <td>1</td>\n",
       "      <td>102</td>\n",
       "      <td>9259788</td>\n",
       "      <td>944498376</td>\n",
       "      <td>1</td>\n",
       "      <td>1</td>\n",
       "    </tr>\n",
       "    <tr>\n",
       "      <th>720</th>\n",
       "      <td>0</td>\n",
       "      <td>118</td>\n",
       "      <td>3489053</td>\n",
       "      <td>411708254</td>\n",
       "      <td>1</td>\n",
       "      <td>2</td>\n",
       "    </tr>\n",
       "  </tbody>\n",
       "</table>\n",
       "</div>"
      ],
      "text/plain": [
       "     day  price  quantity      total  orgType_cat  cust_cat\n",
       "0      0     98   5817950  570159100            0         0\n",
       "1      1    111   8967678  995412258            1         0\n",
       "360    0     93   3147146  292684578            1         1\n",
       "361    1    102   9259788  944498376            1         1\n",
       "720    0    118   3489053  411708254            1         2"
      ]
     },
     "execution_count": 65,
     "metadata": {},
     "output_type": "execute_result"
    }
   ],
   "source": [
    "newdf[(newdf[\"day\"]<2) ].head()"
   ]
  },
  {
   "cell_type": "code",
   "execution_count": 66,
   "metadata": {},
   "outputs": [],
   "source": [
    "trainXdf = newdf[(newdf[\"day\"]<trainingDataSize) ]\n",
    "trainYdf = newdf[(newdf[\"day\"]>=trainingDataSize)]"
   ]
  },
  {
   "cell_type": "code",
   "execution_count": 67,
   "metadata": {},
   "outputs": [],
   "source": [
    "trainXdf=trainXdf.drop(\"day\",axis=1)\n",
    "trainYdf = trainYdf.drop(\"day\",axis=1)"
   ]
  },
  {
   "cell_type": "code",
   "execution_count": 68,
   "metadata": {},
   "outputs": [
    {
     "data": {
      "text/html": [
       "<div>\n",
       "<table border=\"1\" class=\"dataframe\">\n",
       "  <thead>\n",
       "    <tr style=\"text-align: right;\">\n",
       "      <th></th>\n",
       "      <th>price</th>\n",
       "      <th>quantity</th>\n",
       "      <th>total</th>\n",
       "      <th>orgType_cat</th>\n",
       "      <th>cust_cat</th>\n",
       "    </tr>\n",
       "  </thead>\n",
       "  <tbody>\n",
       "    <tr>\n",
       "      <th>330</th>\n",
       "      <td>115</td>\n",
       "      <td>8097789</td>\n",
       "      <td>931245735</td>\n",
       "      <td>3</td>\n",
       "      <td>0</td>\n",
       "    </tr>\n",
       "    <tr>\n",
       "      <th>331</th>\n",
       "      <td>111</td>\n",
       "      <td>8528840</td>\n",
       "      <td>946701240</td>\n",
       "      <td>3</td>\n",
       "      <td>0</td>\n",
       "    </tr>\n",
       "    <tr>\n",
       "      <th>332</th>\n",
       "      <td>115</td>\n",
       "      <td>8997456</td>\n",
       "      <td>1034707440</td>\n",
       "      <td>1</td>\n",
       "      <td>0</td>\n",
       "    </tr>\n",
       "    <tr>\n",
       "      <th>333</th>\n",
       "      <td>113</td>\n",
       "      <td>2313493</td>\n",
       "      <td>261424709</td>\n",
       "      <td>3</td>\n",
       "      <td>0</td>\n",
       "    </tr>\n",
       "    <tr>\n",
       "      <th>334</th>\n",
       "      <td>104</td>\n",
       "      <td>7727351</td>\n",
       "      <td>803644504</td>\n",
       "      <td>1</td>\n",
       "      <td>0</td>\n",
       "    </tr>\n",
       "  </tbody>\n",
       "</table>\n",
       "</div>"
      ],
      "text/plain": [
       "     price  quantity       total  orgType_cat  cust_cat\n",
       "330    115   8097789   931245735            3         0\n",
       "331    111   8528840   946701240            3         0\n",
       "332    115   8997456  1034707440            1         0\n",
       "333    113   2313493   261424709            3         0\n",
       "334    104   7727351   803644504            1         0"
      ]
     },
     "execution_count": 68,
     "metadata": {},
     "output_type": "execute_result"
    }
   ],
   "source": [
    "trainYdf.head()"
   ]
  },
  {
   "cell_type": "markdown",
   "metadata": {},
   "source": [
    "(row,col)=trainXdf.shape\n",
    "data = np.zeros((len(CustCategoryEncoder.categoriesIndex),col), dtype=np.float32)\n",
    "for c in range(len(CustCategoryEncoder.categoriesIndex)):\n",
    "    custClassSet = trainXdf[ trainXdf[\"cust_cat\"] ==c ]\n",
    "    \n",
    "    for j in range(0,col):\n",
    "        data[c,j] = np.round(np.sum( custClassSet[custClassSet[\"orgType_cat\"]==j][\"total\"] )/1000000)\n"
   ]
  },
  {
   "cell_type": "code",
   "execution_count": 69,
   "metadata": {
    "collapsed": true
   },
   "outputs": [],
   "source": [
    "def generateFeatures(tradeData,scale,custCategory,includeCount=False):\n",
    "    (row,col)=tradeData.shape\n",
    "    numCol = col*2 if includeCount else col\n",
    "    data = np.zeros((len(custCategory.categoriesIndex),numCol), dtype=np.float32)\n",
    "    for c in range(len(custCategory.categoriesIndex)):\n",
    "        custClassSet = tradeData[ tradeData[\"cust_cat\"] ==c ]\n",
    "        for j in range(0,col):\n",
    "            data[c,j] = np.round(np.sum( custClassSet[custClassSet[\"orgType_cat\"]==j][\"total\"] )/scale)\n",
    "            if(includeCount):\n",
    "                data[c,j+col] = np.sum( custClassSet[custClassSet[\"orgType_cat\"]==j][\"total\"].count() )\n",
    "            \n",
    "    return data"
   ]
  },
  {
   "cell_type": "code",
   "execution_count": 70,
   "metadata": {},
   "outputs": [],
   "source": [
    "traindata = generateFeatures(trainXdf,1000000,CustCategoryEncoder,True)\n",
    "trainLabelData = generateFeatures(trainYdf,1000000,CustCategoryEncoder,False)"
   ]
  },
  {
   "cell_type": "code",
   "execution_count": 71,
   "metadata": {},
   "outputs": [],
   "source": [
    "from sklearn.cluster import KMeans\n",
    "kmeans = KMeans(n_clusters=numOfClusters, random_state=0).fit(traindata)"
   ]
  },
  {
   "cell_type": "code",
   "execution_count": 72,
   "metadata": {
    "collapsed": true
   },
   "outputs": [],
   "source": [
    "ll=pd.DataFrame(kmeans.labels_)"
   ]
  },
  {
   "cell_type": "code",
   "execution_count": 73,
   "metadata": {
    "collapsed": true
   },
   "outputs": [],
   "source": [
    "import matplotlib.pyplot as plt\n",
    "from mpl_toolkits.mplot3d import Axes3D\n",
    "import matplotlib.cm as cm\n",
    "\n",
    "def plot2DCluster(kmeans,data,xaxis,yaxis,axisIndex,subplot=111):\n",
    "    ll=pd.DataFrame(kmeans.labels_)\n",
    "    numOfCluster = kmeans.n_clusters\n",
    "    \n",
    "    plt.subplot(subplot)\n",
    "    colors = cm.rainbow(np.linspace(0, 1, numOfCluster))\n",
    "    for c in range(0,numOfCluster):\n",
    "        d = data[ll[0]==c]\n",
    "        plt.scatter(d[:,xaxis],d[:,yaxis],c=colors[c],marker=\"o\")\n",
    "        plt.scatter(kmeans.cluster_centers_[c,xaxis],kmeans.cluster_centers_[c,yaxis],c=colors[c],marker=\"x\")\n",
    "        \n",
    "    # rotate the axes and update\n",
    "    plt.xlabel(axisIndex[xaxis], fontsize=14)\n",
    "    plt.ylabel(axisIndex[yaxis], fontsize=14)\n",
    "    #ax.set_zlabel(\"restaurant\", fontsize=14)\n",
    "    \n",
    "\n",
    "def plot3DCluster(kmeans,data,xaxis,yaxis,zaxis,axisIndex):\n",
    "    ll=pd.DataFrame(kmeans.labels_)\n",
    "    numOfCluster = kmeans.n_clusters\n",
    "    \n",
    "   \n",
    "    ax = Axes3D(fig)\n",
    "    colors = cm.rainbow(np.linspace(0, 1, numOfCluster))\n",
    "    for c in range(0,numOfCluster):\n",
    "        d = data[ll[0]==c] #select the data of cluster\n",
    "        ax.scatter(d[:,xaxis],d[:,yaxis],d[:,zaxis],c=colors[c],marker=\"o\")\n",
    "        ax.scatter(kmeans.cluster_centers_[c,xaxis],kmeans.cluster_centers_[c,yaxis],kmeans.cluster_centers_[c,zaxis],c=colors[c],marker=\"x\")\n",
    "        \n",
    "    # rotate the axes and update\n",
    "    ax.set_xlabel(axisIndex[xaxis], fontsize=14)\n",
    "    ax.set_ylabel(axisIndex[yaxis], fontsize=14)\n",
    "    ax.set_zlabel(axisIndex[zaxis], fontsize=14)\n",
    "    #plt.show()"
   ]
  },
  {
   "cell_type": "code",
   "execution_count": 74,
   "metadata": {},
   "outputs": [
    {
     "data": {
      "text/plain": [
       "Index(['airline', 'Gov', 'tech', 'energy', 'restaurant'], dtype='object')"
      ]
     },
     "execution_count": 74,
     "metadata": {},
     "output_type": "execute_result"
    }
   ],
   "source": [
    "OrgTypeCategoryEncoder.categoriesIndex"
   ]
  },
  {
   "cell_type": "code",
   "execution_count": 75,
   "metadata": {},
   "outputs": [
    {
     "name": "stdout",
     "output_type": "stream",
     "text": [
      "Clustering the past training data.....\n"
     ]
    },
    {
     "data": {
      "image/png": "[encoded data removed]",
      "text/plain": [
       "<matplotlib.figure.Figure at 0x7fca62a3b208>"
      ]
     },
     "metadata": {},
     "output_type": "display_data"
    },
    {
     "data": {
      "image/png": "[encoded data removed]",
      "text/plain": [
       "<matplotlib.figure.Figure at 0x7fca601f2668>"
      ]
     },
     "metadata": {},
     "output_type": "display_data"
    }
   ],
   "source": [
    "print (\"Clustering the past training data.....\")\n",
    "fig = plt.figure(figsize=(5, 5))\n",
    "plot3DCluster(kmeans,traindata,1,4,2,OrgTypeCategoryEncoder.categoriesIndex)\n",
    "plt.show()\n",
    "fig = plt.figure(figsize=(10, 10))\n",
    "plot2DCluster(kmeans,traindata,1,4,OrgTypeCategoryEncoder.categoriesIndex,221)\n",
    "plot2DCluster(kmeans,traindata,1,2,OrgTypeCategoryEncoder.categoriesIndex,222)\n",
    "plot2DCluster(kmeans,traindata,4,2,OrgTypeCategoryEncoder.categoriesIndex,223)\n",
    "plt.show()"
   ]
  },
  {
   "cell_type": "code",
   "execution_count": 76,
   "metadata": {},
   "outputs": [
    {
     "name": "stdout",
     "output_type": "stream",
     "text": [
      "Cluster centre:\n"
     ]
    },
    {
     "data": {
      "text/html": [
       "<div>\n",
       "<table border=\"1\" class=\"dataframe\">\n",
       "  <thead>\n",
       "    <tr style=\"text-align: right;\">\n",
       "      <th></th>\n",
       "      <th>airline</th>\n",
       "      <th>Gov</th>\n",
       "      <th>tech</th>\n",
       "      <th>energy</th>\n",
       "      <th>restaurant</th>\n",
       "    </tr>\n",
       "  </thead>\n",
       "  <tbody>\n",
       "    <tr>\n",
       "      <th>0</th>\n",
       "      <td>3417.0</td>\n",
       "      <td>151435.0</td>\n",
       "      <td>21128.0</td>\n",
       "      <td>7347.0</td>\n",
       "      <td>3716.0</td>\n",
       "    </tr>\n",
       "    <tr>\n",
       "      <th>1</th>\n",
       "      <td>4136.0</td>\n",
       "      <td>159904.0</td>\n",
       "      <td>10065.0</td>\n",
       "      <td>13265.0</td>\n",
       "      <td>2214.0</td>\n",
       "    </tr>\n",
       "    <tr>\n",
       "      <th>2</th>\n",
       "      <td>1895.0</td>\n",
       "      <td>161576.0</td>\n",
       "      <td>22102.0</td>\n",
       "      <td>4758.0</td>\n",
       "      <td>2315.0</td>\n",
       "    </tr>\n",
       "    <tr>\n",
       "      <th>3</th>\n",
       "      <td>4031.0</td>\n",
       "      <td>159434.0</td>\n",
       "      <td>9246.0</td>\n",
       "      <td>3449.0</td>\n",
       "      <td>14631.0</td>\n",
       "    </tr>\n",
       "  </tbody>\n",
       "</table>\n",
       "</div>"
      ],
      "text/plain": [
       "   airline       Gov     tech   energy  restaurant\n",
       "0   3417.0  151435.0  21128.0   7347.0      3716.0\n",
       "1   4136.0  159904.0  10065.0  13265.0      2214.0\n",
       "2   1895.0  161576.0  22102.0   4758.0      2315.0\n",
       "3   4031.0  159434.0   9246.0   3449.0     14631.0"
      ]
     },
     "execution_count": 76,
     "metadata": {},
     "output_type": "execute_result"
    }
   ],
   "source": [
    "print(\"Cluster centre:\")\n",
    "cSet=np.round(kmeans.cluster_centers_[:,0:len(OrgTypeCategoryEncoder.categoriesIndex)])\n",
    "ClusterCenter = pds.DataFrame(cSet, columns=OrgTypeCategoryEncoder.categoriesIndex)\n",
    "ClusterCenter"
   ]
  },
  {
   "cell_type": "code",
   "execution_count": 77,
   "metadata": {},
   "outputs": [
    {
     "data": {
      "text/plain": [
       "DecisionTreeRegressor(criterion='mse', max_depth=None, max_features=None,\n",
       "           max_leaf_nodes=None, min_impurity_split=1e-07,\n",
       "           min_samples_leaf=1, min_samples_split=2,\n",
       "           min_weight_fraction_leaf=0.0, presort=False, random_state=None,\n",
       "           splitter='best')"
      ]
     },
     "execution_count": 77,
     "metadata": {},
     "output_type": "execute_result"
    }
   ],
   "source": [
    "from sklearn.tree import DecisionTreeRegressor\n",
    "\n",
    "tree_reg = DecisionTreeRegressor()\n",
    "tree_reg.fit(traindata, trainLabelData)"
   ]
  },
  {
   "cell_type": "code",
   "execution_count": 88,
   "metadata": {},
   "outputs": [
    {
     "name": "stdout",
     "output_type": "stream",
     "text": [
      "With a client traded with position in million in the past 330 days\n",
      "Trade notional in millions:\n"
     ]
    },
    {
     "data": {
      "text/html": [
       "<div>\n",
       "<table border=\"1\" class=\"dataframe\">\n",
       "  <thead>\n",
       "    <tr style=\"text-align: right;\">\n",
       "      <th></th>\n",
       "      <th>airline</th>\n",
       "      <th>Gov</th>\n",
       "      <th>tech</th>\n",
       "      <th>energy</th>\n",
       "      <th>restaurant</th>\n",
       "    </tr>\n",
       "  </thead>\n",
       "  <tbody>\n",
       "    <tr>\n",
       "      <th>0</th>\n",
       "      <td>570.0</td>\n",
       "      <td>151077.0</td>\n",
       "      <td>23050.0</td>\n",
       "      <td>12026.0</td>\n",
       "      <td>0.0</td>\n",
       "    </tr>\n",
       "  </tbody>\n",
       "</table>\n",
       "</div>"
      ],
      "text/plain": [
       "   airline       Gov     tech   energy  restaurant\n",
       "0    570.0  151077.0  23050.0  12026.0         0.0"
      ]
     },
     "execution_count": 88,
     "metadata": {},
     "output_type": "execute_result"
    }
   ],
   "source": [
    "predictedResult=tree_reg.predict(traindata[0].reshape(1,-1))\n",
    "RegressionResult = pds.DataFrame(predictedResult, columns=OrgTypeCategoryEncoder.categoriesIndex)\n",
    "print ( \"With a client traded with position in million in the past {0} days\".format(trainingDataSize))\n",
    "print ( \"Trade notional in millions:\")\n",
    "pds.DataFrame(traindata[0,0:5].reshape(1,-1), columns=OrgTypeCategoryEncoder.categoriesIndex)"
   ]
  },
  {
   "cell_type": "code",
   "execution_count": 89,
   "metadata": {},
   "outputs": [
    {
     "name": "stdout",
     "output_type": "stream",
     "text": [
      "with number of deals:\n"
     ]
    },
    {
     "data": {
      "text/html": [
       "<div>\n",
       "<table border=\"1\" class=\"dataframe\">\n",
       "  <thead>\n",
       "    <tr style=\"text-align: right;\">\n",
       "      <th></th>\n",
       "      <th>airline</th>\n",
       "      <th>Gov</th>\n",
       "      <th>tech</th>\n",
       "      <th>energy</th>\n",
       "      <th>restaurant</th>\n",
       "    </tr>\n",
       "  </thead>\n",
       "  <tbody>\n",
       "    <tr>\n",
       "      <th>0</th>\n",
       "      <td>1</td>\n",
       "      <td>267</td>\n",
       "      <td>42</td>\n",
       "      <td>20</td>\n",
       "      <td>0</td>\n",
       "    </tr>\n",
       "  </tbody>\n",
       "</table>\n",
       "</div>"
      ],
      "text/plain": [
       "   airline  Gov  tech  energy  restaurant\n",
       "0        1  267    42      20           0"
      ]
     },
     "execution_count": 89,
     "metadata": {},
     "output_type": "execute_result"
    }
   ],
   "source": [
    "print ( \"with number of deals:\")\n",
    "pds.DataFrame(np.int32(traindata[0,5:10].reshape(1,-1)), columns=OrgTypeCategoryEncoder.categoriesIndex)"
   ]
  },
  {
   "cell_type": "code",
   "execution_count": 79,
   "metadata": {},
   "outputs": [
    {
     "name": "stdout",
     "output_type": "stream",
     "text": [
      "Here is the results in million:\n"
     ]
    },
    {
     "data": {
      "text/html": [
       "<div>\n",
       "<table border=\"1\" class=\"dataframe\">\n",
       "  <thead>\n",
       "    <tr style=\"text-align: right;\">\n",
       "      <th></th>\n",
       "      <th>airline</th>\n",
       "      <th>Gov</th>\n",
       "      <th>tech</th>\n",
       "      <th>energy</th>\n",
       "      <th>restaurant</th>\n",
       "    </tr>\n",
       "  </thead>\n",
       "  <tbody>\n",
       "    <tr>\n",
       "      <th>0</th>\n",
       "      <td>0.0</td>\n",
       "      <td>12898.0</td>\n",
       "      <td>0.0</td>\n",
       "      <td>5031.0</td>\n",
       "      <td>0.0</td>\n",
       "    </tr>\n",
       "  </tbody>\n",
       "</table>\n",
       "</div>"
      ],
      "text/plain": [
       "   airline      Gov  tech  energy  restaurant\n",
       "0      0.0  12898.0   0.0  5031.0         0.0"
      ]
     },
     "execution_count": 79,
     "metadata": {},
     "output_type": "execute_result"
    }
   ],
   "source": [
    "print (\"Here is the predicted new trade position in million:\")\n",
    "RegressionResult"
   ]
  },
  {
   "cell_type": "code",
   "execution_count": null,
   "metadata": {
    "collapsed": true
   },
   "outputs": [],
   "source": []
  },
  {
   "cell_type": "code",
   "execution_count": null,
   "metadata": {
    "collapsed": true
   },
   "outputs": [],
   "source": []
  },
  {
   "cell_type": "code",
   "execution_count": null,
   "metadata": {
    "collapsed": true
   },
   "outputs": [],
   "source": []
  },
  {
   "cell_type": "code",
   "execution_count": null,
   "metadata": {
    "collapsed": true
   },
   "outputs": [],
   "source": []
  },
  {
   "cell_type": "code",
   "execution_count": null,
   "metadata": {
    "collapsed": true
   },
   "outputs": [],
   "source": []
  },
  {
   "cell_type": "code",
   "execution_count": null,
   "metadata": {
    "collapsed": true
   },
   "outputs": [],
   "source": []
  },
  {
   "cell_type": "code",
   "execution_count": null,
   "metadata": {
    "collapsed": true
   },
   "outputs": [],
   "source": []
  },
  {
   "cell_type": "code",
   "execution_count": 82,
   "metadata": {},
   "outputs": [],
   "source": [
    "XX=pds.DataFrame(traindata[:,0:5], columns=OrgTypeCategoryEncoder.categoriesIndex)\n",
    "YY=pds.DataFrame(trainLabelData, columns=OrgTypeCategoryEncoder.categoriesIndex)"
   ]
  },
  {
   "cell_type": "code",
   "execution_count": 83,
   "metadata": {},
   "outputs": [
    {
     "data": {
      "text/html": [
       "<div>\n",
       "<table border=\"1\" class=\"dataframe\">\n",
       "  <thead>\n",
       "    <tr style=\"text-align: right;\">\n",
       "      <th></th>\n",
       "      <th>airline</th>\n",
       "      <th>Gov</th>\n",
       "      <th>tech</th>\n",
       "      <th>energy</th>\n",
       "      <th>restaurant</th>\n",
       "    </tr>\n",
       "  </thead>\n",
       "  <tbody>\n",
       "    <tr>\n",
       "      <th>count</th>\n",
       "      <td>100.000000</td>\n",
       "      <td>100.000000</td>\n",
       "      <td>100.000000</td>\n",
       "      <td>100.000000</td>\n",
       "      <td>100.000000</td>\n",
       "    </tr>\n",
       "    <tr>\n",
       "      <th>mean</th>\n",
       "      <td>3261.770020</td>\n",
       "      <td>157862.312500</td>\n",
       "      <td>16641.169922</td>\n",
       "      <td>7609.350098</td>\n",
       "      <td>4541.520020</td>\n",
       "    </tr>\n",
       "    <tr>\n",
       "      <th>std</th>\n",
       "      <td>3650.749268</td>\n",
       "      <td>5673.297363</td>\n",
       "      <td>7704.953613</td>\n",
       "      <td>5483.751465</td>\n",
       "      <td>5410.802734</td>\n",
       "    </tr>\n",
       "    <tr>\n",
       "      <th>min</th>\n",
       "      <td>0.000000</td>\n",
       "      <td>144806.000000</td>\n",
       "      <td>0.000000</td>\n",
       "      <td>0.000000</td>\n",
       "      <td>0.000000</td>\n",
       "    </tr>\n",
       "    <tr>\n",
       "      <th>25%</th>\n",
       "      <td>0.000000</td>\n",
       "      <td>153028.000000</td>\n",
       "      <td>11233.000000</td>\n",
       "      <td>3287.000000</td>\n",
       "      <td>0.000000</td>\n",
       "    </tr>\n",
       "    <tr>\n",
       "      <th>50%</th>\n",
       "      <td>2096.500000</td>\n",
       "      <td>158176.000000</td>\n",
       "      <td>16832.500000</td>\n",
       "      <td>6845.000000</td>\n",
       "      <td>2315.000000</td>\n",
       "    </tr>\n",
       "    <tr>\n",
       "      <th>75%</th>\n",
       "      <td>5485.750000</td>\n",
       "      <td>162240.250000</td>\n",
       "      <td>22012.500000</td>\n",
       "      <td>11063.500000</td>\n",
       "      <td>6973.000000</td>\n",
       "    </tr>\n",
       "    <tr>\n",
       "      <th>max</th>\n",
       "      <td>17618.000000</td>\n",
       "      <td>169055.000000</td>\n",
       "      <td>38832.000000</td>\n",
       "      <td>23091.000000</td>\n",
       "      <td>26537.000000</td>\n",
       "    </tr>\n",
       "  </tbody>\n",
       "</table>\n",
       "</div>"
      ],
      "text/plain": [
       "            airline            Gov          tech        energy    restaurant\n",
       "count    100.000000     100.000000    100.000000    100.000000    100.000000\n",
       "mean    3261.770020  157862.312500  16641.169922   7609.350098   4541.520020\n",
       "std     3650.749268    5673.297363   7704.953613   5483.751465   5410.802734\n",
       "min        0.000000  144806.000000      0.000000      0.000000      0.000000\n",
       "25%        0.000000  153028.000000  11233.000000   3287.000000      0.000000\n",
       "50%     2096.500000  158176.000000  16832.500000   6845.000000   2315.000000\n",
       "75%     5485.750000  162240.250000  22012.500000  11063.500000   6973.000000\n",
       "max    17618.000000  169055.000000  38832.000000  23091.000000  26537.000000"
      ]
     },
     "execution_count": 83,
     "metadata": {},
     "output_type": "execute_result"
    }
   ],
   "source": [
    "XX.describe()"
   ]
  },
  {
   "cell_type": "code",
   "execution_count": 84,
   "metadata": {},
   "outputs": [
    {
     "data": {
      "text/html": [
       "<div>\n",
       "<table border=\"1\" class=\"dataframe\">\n",
       "  <thead>\n",
       "    <tr style=\"text-align: right;\">\n",
       "      <th></th>\n",
       "      <th>airline</th>\n",
       "      <th>Gov</th>\n",
       "      <th>tech</th>\n",
       "      <th>energy</th>\n",
       "      <th>restaurant</th>\n",
       "    </tr>\n",
       "  </thead>\n",
       "  <tbody>\n",
       "    <tr>\n",
       "      <th>count</th>\n",
       "      <td>100.000000</td>\n",
       "      <td>100.000000</td>\n",
       "      <td>100.000000</td>\n",
       "      <td>100.000000</td>\n",
       "      <td>100.000000</td>\n",
       "    </tr>\n",
       "    <tr>\n",
       "      <th>mean</th>\n",
       "      <td>285.299988</td>\n",
       "      <td>14308.790039</td>\n",
       "      <td>1569.060059</td>\n",
       "      <td>792.809998</td>\n",
       "      <td>514.599976</td>\n",
       "    </tr>\n",
       "    <tr>\n",
       "      <th>std</th>\n",
       "      <td>784.472046</td>\n",
       "      <td>1703.320068</td>\n",
       "      <td>1572.170044</td>\n",
       "      <td>1421.164673</td>\n",
       "      <td>1168.187744</td>\n",
       "    </tr>\n",
       "    <tr>\n",
       "      <th>min</th>\n",
       "      <td>0.000000</td>\n",
       "      <td>10588.000000</td>\n",
       "      <td>0.000000</td>\n",
       "      <td>0.000000</td>\n",
       "      <td>0.000000</td>\n",
       "    </tr>\n",
       "    <tr>\n",
       "      <th>25%</th>\n",
       "      <td>0.000000</td>\n",
       "      <td>13083.750000</td>\n",
       "      <td>0.000000</td>\n",
       "      <td>0.000000</td>\n",
       "      <td>0.000000</td>\n",
       "    </tr>\n",
       "    <tr>\n",
       "      <th>50%</th>\n",
       "      <td>0.000000</td>\n",
       "      <td>14403.000000</td>\n",
       "      <td>1114.000000</td>\n",
       "      <td>0.000000</td>\n",
       "      <td>0.000000</td>\n",
       "    </tr>\n",
       "    <tr>\n",
       "      <th>75%</th>\n",
       "      <td>0.000000</td>\n",
       "      <td>15444.750000</td>\n",
       "      <td>2784.000000</td>\n",
       "      <td>1102.000000</td>\n",
       "      <td>251.250000</td>\n",
       "    </tr>\n",
       "    <tr>\n",
       "      <th>max</th>\n",
       "      <td>3866.000000</td>\n",
       "      <td>18307.000000</td>\n",
       "      <td>6090.000000</td>\n",
       "      <td>6166.000000</td>\n",
       "      <td>5632.000000</td>\n",
       "    </tr>\n",
       "  </tbody>\n",
       "</table>\n",
       "</div>"
      ],
      "text/plain": [
       "           airline           Gov         tech       energy   restaurant\n",
       "count   100.000000    100.000000   100.000000   100.000000   100.000000\n",
       "mean    285.299988  14308.790039  1569.060059   792.809998   514.599976\n",
       "std     784.472046   1703.320068  1572.170044  1421.164673  1168.187744\n",
       "min       0.000000  10588.000000     0.000000     0.000000     0.000000\n",
       "25%       0.000000  13083.750000     0.000000     0.000000     0.000000\n",
       "50%       0.000000  14403.000000  1114.000000     0.000000     0.000000\n",
       "75%       0.000000  15444.750000  2784.000000  1102.000000   251.250000\n",
       "max    3866.000000  18307.000000  6090.000000  6166.000000  5632.000000"
      ]
     },
     "execution_count": 84,
     "metadata": {},
     "output_type": "execute_result"
    }
   ],
   "source": [
    "YY.describe()"
   ]
  },
  {
   "cell_type": "code",
   "execution_count": null,
   "metadata": {
    "collapsed": true
   },
   "outputs": [],
   "source": []
  }
 ],
 "metadata": {
  "kernelspec": {
   "display_name": "Python 3",
   "language": "python",
   "name": "python3"
  },
  "language_info": {
   "codemirror_mode": {
    "name": "ipython",
    "version": 3
   },
   "file_extension": ".py",
   "mimetype": "text/x-python",
   "name": "python",
   "nbconvert_exporter": "python",
   "pygments_lexer": "ipython3",
   "version": "3.6.2"
  }
 },
 "nbformat": 4,
 "nbformat_minor": 2
}
