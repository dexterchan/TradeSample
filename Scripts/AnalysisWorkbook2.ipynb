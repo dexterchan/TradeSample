{
 "cells": [
  {
   "cell_type": "code",
   "execution_count": 4,
   "metadata": {
    "collapsed": true
   },
   "outputs": [],
   "source": [
    "from TradeGenerator import *\n",
    "import matplotlib.pyplot as plt"
   ]
  },
  {
   "cell_type": "code",
   "execution_count": 5,
   "metadata": {
    "collapsed": true
   },
   "outputs": [],
   "source": [
    "file_name=\"rawTrade.csv\"\n",
    "import os.path\n",
    "import pandas as pds\n",
    "numOfClusters=4\n",
    "trainingDataSize=330"
   ]
  },
  {
   "cell_type": "code",
   "execution_count": 6,
   "metadata": {},
   "outputs": [],
   "source": [
    "if( os.path.isfile(file_name)  ):\n",
    "    rawdf = pds.read_csv(file_name)\n",
    "else:\n",
    "    t = TradeGenerator()\n",
    "    tList = t.prepareTradeList(tradingdays=360)\n",
    "    rawdf = t.tradeListConvert2DataFrame(tList)\n",
    "    rawdf.to_csv(file_name,index=False)\n",
    "    \n",
    "\n",
    "rawdf[\"total\"] = rawdf[\"price\"] * rawdf[\"quantity\"]\n",
    "df=rawdf\n",
    "\n",
    "df=df.drop(\"tradeId\",axis=1)"
   ]
  },
  {
   "cell_type": "code",
   "execution_count": 7,
   "metadata": {
    "collapsed": true
   },
   "outputs": [],
   "source": [
    "from sklearn.base import BaseEstimator, TransformerMixin\n",
    "from IPython.core.debugger import set_trace\n",
    "\n",
    "class CategoryEncoder(BaseEstimator, TransformerMixin):\n",
    "    def __init__(self, attribute): # no *args or **kargs\n",
    "        self.attribute = attribute\n",
    "    def fit(self, X):\n",
    "        return self  # nothing else to do\n",
    "    def transform(self, X, y=None):\n",
    "        #set_trace()\n",
    "        _encoded, _categories = X[self.attribute].factorize()\n",
    "        self.categoriesIndex = _categories\n",
    "        X[self.attribute+\"_cat\"] = _encoded\n",
    "        X.drop(self.attribute,axis=1 ,inplace=True)\n",
    "        return X\n",
    "        "
   ]
  },
  {
   "cell_type": "code",
   "execution_count": 8,
   "metadata": {
    "collapsed": true
   },
   "outputs": [],
   "source": [
    "from sklearn.preprocessing import StandardScaler\n",
    "OrgTypeCategoryEncoder = CategoryEncoder(\"orgType\")\n",
    "CustCategoryEncoder = CategoryEncoder(\"cust\")\n",
    "SecCategoryEncoder = CategoryEncoder(\"secid\")\n",
    "from sklearn.pipeline import Pipeline\n",
    "from sklearn.preprocessing import StandardScaler\n",
    "\n",
    "num_pipeline = Pipeline([\n",
    "        ('OrgType', OrgTypeCategoryEncoder),\n",
    "        ('Cust', CustCategoryEncoder),\n",
    "            ('Sec', SecCategoryEncoder)\n",
    "    ])"
   ]
  },
  {
   "cell_type": "code",
   "execution_count": 9,
   "metadata": {},
   "outputs": [],
   "source": [
    "newdf=num_pipeline.fit_transform(df)"
   ]
  },
  {
   "cell_type": "code",
   "execution_count": 10,
   "metadata": {
    "collapsed": true
   },
   "outputs": [],
   "source": [
    "secIdInx = newdf[\"secid_cat\"]\n",
    "newdf = newdf.drop(\"secid_cat\",axis=1)"
   ]
  },
  {
   "cell_type": "code",
   "execution_count": 11,
   "metadata": {},
   "outputs": [
    {
     "data": {
      "text/html": [
       "<div>\n",
       "<table border=\"1\" class=\"dataframe\">\n",
       "  <thead>\n",
       "    <tr style=\"text-align: right;\">\n",
       "      <th></th>\n",
       "      <th>day</th>\n",
       "      <th>price</th>\n",
       "      <th>quantity</th>\n",
       "      <th>total</th>\n",
       "      <th>orgType_cat</th>\n",
       "      <th>cust_cat</th>\n",
       "    </tr>\n",
       "  </thead>\n",
       "  <tbody>\n",
       "    <tr>\n",
       "      <th>0</th>\n",
       "      <td>0</td>\n",
       "      <td>116</td>\n",
       "      <td>3641449</td>\n",
       "      <td>422408084</td>\n",
       "      <td>0</td>\n",
       "      <td>0</td>\n",
       "    </tr>\n",
       "    <tr>\n",
       "      <th>1</th>\n",
       "      <td>1</td>\n",
       "      <td>119</td>\n",
       "      <td>4232588</td>\n",
       "      <td>503677972</td>\n",
       "      <td>1</td>\n",
       "      <td>0</td>\n",
       "    </tr>\n",
       "    <tr>\n",
       "      <th>360</th>\n",
       "      <td>0</td>\n",
       "      <td>90</td>\n",
       "      <td>3252845</td>\n",
       "      <td>292756050</td>\n",
       "      <td>1</td>\n",
       "      <td>1</td>\n",
       "    </tr>\n",
       "    <tr>\n",
       "      <th>361</th>\n",
       "      <td>1</td>\n",
       "      <td>115</td>\n",
       "      <td>7887405</td>\n",
       "      <td>907051575</td>\n",
       "      <td>1</td>\n",
       "      <td>1</td>\n",
       "    </tr>\n",
       "    <tr>\n",
       "      <th>720</th>\n",
       "      <td>0</td>\n",
       "      <td>98</td>\n",
       "      <td>8938437</td>\n",
       "      <td>875966826</td>\n",
       "      <td>3</td>\n",
       "      <td>2</td>\n",
       "    </tr>\n",
       "  </tbody>\n",
       "</table>\n",
       "</div>"
      ],
      "text/plain": [
       "     day  price  quantity      total  orgType_cat  cust_cat\n",
       "0      0    116   3641449  422408084            0         0\n",
       "1      1    119   4232588  503677972            1         0\n",
       "360    0     90   3252845  292756050            1         1\n",
       "361    1    115   7887405  907051575            1         1\n",
       "720    0     98   8938437  875966826            3         2"
      ]
     },
     "execution_count": 11,
     "metadata": {},
     "output_type": "execute_result"
    }
   ],
   "source": [
    "newdf[(newdf[\"day\"]<2) ].head()"
   ]
  },
  {
   "cell_type": "code",
   "execution_count": 12,
   "metadata": {
    "collapsed": true
   },
   "outputs": [],
   "source": [
    "trainXdf = newdf[(newdf[\"day\"]<trainingDataSize) ]\n",
    "trainYdf = newdf[(newdf[\"day\"]>=trainingDataSize)]"
   ]
  },
  {
   "cell_type": "code",
   "execution_count": 13,
   "metadata": {
    "collapsed": true
   },
   "outputs": [],
   "source": [
    "trainXdf=trainXdf.drop(\"day\",axis=1)\n",
    "trainYdf = trainYdf.drop(\"day\",axis=1)"
   ]
  },
  {
   "cell_type": "code",
   "execution_count": 14,
   "metadata": {},
   "outputs": [
    {
     "data": {
      "text/html": [
       "<div>\n",
       "<table border=\"1\" class=\"dataframe\">\n",
       "  <thead>\n",
       "    <tr style=\"text-align: right;\">\n",
       "      <th></th>\n",
       "      <th>price</th>\n",
       "      <th>quantity</th>\n",
       "      <th>total</th>\n",
       "      <th>orgType_cat</th>\n",
       "      <th>cust_cat</th>\n",
       "    </tr>\n",
       "  </thead>\n",
       "  <tbody>\n",
       "    <tr>\n",
       "      <th>330</th>\n",
       "      <td>108</td>\n",
       "      <td>2725393</td>\n",
       "      <td>294342444</td>\n",
       "      <td>1</td>\n",
       "      <td>0</td>\n",
       "    </tr>\n",
       "    <tr>\n",
       "      <th>331</th>\n",
       "      <td>90</td>\n",
       "      <td>7757900</td>\n",
       "      <td>698211000</td>\n",
       "      <td>1</td>\n",
       "      <td>0</td>\n",
       "    </tr>\n",
       "    <tr>\n",
       "      <th>332</th>\n",
       "      <td>110</td>\n",
       "      <td>7576908</td>\n",
       "      <td>833459880</td>\n",
       "      <td>2</td>\n",
       "      <td>0</td>\n",
       "    </tr>\n",
       "    <tr>\n",
       "      <th>333</th>\n",
       "      <td>96</td>\n",
       "      <td>4860417</td>\n",
       "      <td>466600032</td>\n",
       "      <td>1</td>\n",
       "      <td>0</td>\n",
       "    </tr>\n",
       "    <tr>\n",
       "      <th>334</th>\n",
       "      <td>92</td>\n",
       "      <td>4487717</td>\n",
       "      <td>412869964</td>\n",
       "      <td>1</td>\n",
       "      <td>0</td>\n",
       "    </tr>\n",
       "  </tbody>\n",
       "</table>\n",
       "</div>"
      ],
      "text/plain": [
       "     price  quantity      total  orgType_cat  cust_cat\n",
       "330    108   2725393  294342444            1         0\n",
       "331     90   7757900  698211000            1         0\n",
       "332    110   7576908  833459880            2         0\n",
       "333     96   4860417  466600032            1         0\n",
       "334     92   4487717  412869964            1         0"
      ]
     },
     "execution_count": 14,
     "metadata": {},
     "output_type": "execute_result"
    }
   ],
   "source": [
    "trainYdf.head()"
   ]
  },
  {
   "cell_type": "markdown",
   "metadata": {},
   "source": [
    "(row,col)=trainXdf.shape\n",
    "data = np.zeros((len(CustCategoryEncoder.categoriesIndex),col), dtype=np.float32)\n",
    "for c in range(len(CustCategoryEncoder.categoriesIndex)):\n",
    "    custClassSet = trainXdf[ trainXdf[\"cust_cat\"] ==c ]\n",
    "    \n",
    "    for j in range(0,col):\n",
    "        data[c,j] = np.round(np.sum( custClassSet[custClassSet[\"orgType_cat\"]==j][\"total\"] )/1000000)\n"
   ]
  },
  {
   "cell_type": "code",
   "execution_count": 15,
   "metadata": {
    "collapsed": true
   },
   "outputs": [],
   "source": [
    "def generateFeatures(tradeData,scale,custCategory,includeCount=False):\n",
    "    (row,col)=tradeData.shape\n",
    "    numCol = col*2 if includeCount else col\n",
    "    data = np.zeros((len(custCategory.categoriesIndex),numCol), dtype=np.float32)\n",
    "    for c in range(len(custCategory.categoriesIndex)):\n",
    "        custClassSet = tradeData[ tradeData[\"cust_cat\"] ==c ]\n",
    "        for j in range(0,col):\n",
    "            data[c,j] = np.round(np.sum( custClassSet[custClassSet[\"orgType_cat\"]==j][\"total\"] )/scale)\n",
    "            if(includeCount):\n",
    "                data[c,j+col] = np.sum( custClassSet[custClassSet[\"orgType_cat\"]==j][\"total\"].count() )\n",
    "            \n",
    "    return data"
   ]
  },
  {
   "cell_type": "code",
   "execution_count": 16,
   "metadata": {
    "collapsed": true
   },
   "outputs": [],
   "source": [
    "traindata = generateFeatures(trainXdf,1000000,CustCategoryEncoder,True)\n",
    "trainLabelData = generateFeatures(trainYdf,1000000,CustCategoryEncoder,False)"
   ]
  },
  {
   "cell_type": "code",
   "execution_count": 17,
   "metadata": {
    "collapsed": true
   },
   "outputs": [],
   "source": [
    "from sklearn.cluster import KMeans\n",
    "kmeans = KMeans(n_clusters=numOfClusters, random_state=0).fit(traindata)"
   ]
  },
  {
   "cell_type": "code",
   "execution_count": 18,
   "metadata": {
    "collapsed": true
   },
   "outputs": [],
   "source": [
    "ll=pd.DataFrame(kmeans.labels_)"
   ]
  },
  {
   "cell_type": "code",
   "execution_count": 19,
   "metadata": {
    "collapsed": true
   },
   "outputs": [],
   "source": [
    "import matplotlib.pyplot as plt\n",
    "from mpl_toolkits.mplot3d import Axes3D\n",
    "import matplotlib.cm as cm\n",
    "\n",
    "def plot2DCluster(kmeans,data,xaxis,yaxis,axisIndex,subplot=111):\n",
    "    ll=pd.DataFrame(kmeans.labels_)\n",
    "    numOfCluster = kmeans.n_clusters\n",
    "    \n",
    "    plt.subplot(subplot)\n",
    "    colors = cm.rainbow(np.linspace(0, 1, numOfCluster))\n",
    "    for c in range(0,numOfCluster):\n",
    "        d = data[ll[0]==c]\n",
    "        plt.scatter(d[:,xaxis],d[:,yaxis],c=colors[c],marker=\"o\")\n",
    "        plt.scatter(kmeans.cluster_centers_[c,xaxis],kmeans.cluster_centers_[c,yaxis],c=colors[c],marker=\"x\")\n",
    "        \n",
    "    # rotate the axes and update\n",
    "    plt.xlabel(axisIndex[xaxis], fontsize=14)\n",
    "    plt.ylabel(axisIndex[yaxis], fontsize=14)\n",
    "    #ax.set_zlabel(\"restaurant\", fontsize=14)\n",
    "    \n",
    "\n",
    "def plot3DCluster(kmeans,data,xaxis,yaxis,zaxis,axisIndex):\n",
    "    ll=pd.DataFrame(kmeans.labels_)\n",
    "    numOfCluster = kmeans.n_clusters\n",
    "    \n",
    "   \n",
    "    ax = Axes3D(fig)\n",
    "    colors = cm.rainbow(np.linspace(0, 1, numOfCluster))\n",
    "    for c in range(0,numOfCluster):\n",
    "        d = data[ll[0]==c] #select the data of cluster\n",
    "        ax.scatter(d[:,xaxis],d[:,yaxis],d[:,zaxis],c=colors[c],marker=\"o\")\n",
    "        ax.scatter(kmeans.cluster_centers_[c,xaxis],kmeans.cluster_centers_[c,yaxis],kmeans.cluster_centers_[c,zaxis],c=colors[c],marker=\"x\")\n",
    "        \n",
    "    # rotate the axes and update\n",
    "    ax.set_xlabel(axisIndex[xaxis], fontsize=14)\n",
    "    ax.set_ylabel(axisIndex[yaxis], fontsize=14)\n",
    "    ax.set_zlabel(axisIndex[zaxis], fontsize=14)\n",
    "    #plt.show()"
   ]
  },
  {
   "cell_type": "code",
   "execution_count": 20,
   "metadata": {},
   "outputs": [
    {
     "data": {
      "text/plain": [
       "Index(['tech', 'Gov', 'energy', 'airline', 'food'], dtype='object')"
      ]
     },
     "execution_count": 20,
     "metadata": {},
     "output_type": "execute_result"
    }
   ],
   "source": [
    "OrgTypeCategoryEncoder.categoriesIndex"
   ]
  },
  {
   "cell_type": "code",
   "execution_count": 30,
   "metadata": {},
   "outputs": [
    {
     "name": "stdout",
     "output_type": "stream",
     "text": [
      "Clustering the past training data.....\n"
     ]
    },
    {
     "data": {
      "image/png": "[encoded data removed]",
      "text/plain": [
       "<matplotlib.figure.Figure at 0x7f9ad9a7c390>"
      ]
     },
     "metadata": {},
     "output_type": "display_data"
    },
    {
     "data": {
      "image/png": "[encoded data removed]",
      "text/plain": [
       "<matplotlib.figure.Figure at 0x7f9ad91403c8>"
      ]
     },
     "metadata": {},
     "output_type": "display_data"
    }
   ],
   "source": [
    "print (\"Clustering the past training data.....\")\n",
    "fig = plt.figure(figsize=(5, 5))\n",
    "plot3DCluster(kmeans,traindata,1,0,2,OrgTypeCategoryEncoder.categoriesIndex)\n",
    "plt.show()\n",
    "fig = plt.figure(figsize=(10, 10))\n",
    "plot2DCluster(kmeans,traindata,1,0,OrgTypeCategoryEncoder.categoriesIndex,221)\n",
    "plot2DCluster(kmeans,traindata,1,2,OrgTypeCategoryEncoder.categoriesIndex,222)\n",
    "plot2DCluster(kmeans,traindata,0,2,OrgTypeCategoryEncoder.categoriesIndex,223)\n",
    "plt.show()"
   ]
  },
  {
   "cell_type": "code",
   "execution_count": 22,
   "metadata": {},
   "outputs": [
    {
     "name": "stdout",
     "output_type": "stream",
     "text": [
      "Cluster centre:\n"
     ]
    },
    {
     "data": {
      "text/html": [
       "<div>\n",
       "<table border=\"1\" class=\"dataframe\">\n",
       "  <thead>\n",
       "    <tr style=\"text-align: right;\">\n",
       "      <th></th>\n",
       "      <th>tech</th>\n",
       "      <th>Gov</th>\n",
       "      <th>energy</th>\n",
       "      <th>airline</th>\n",
       "      <th>food</th>\n",
       "    </tr>\n",
       "  </thead>\n",
       "  <tbody>\n",
       "    <tr>\n",
       "      <th>0</th>\n",
       "      <td>26444.0</td>\n",
       "      <td>153599.0</td>\n",
       "      <td>3682.0</td>\n",
       "      <td>1462.0</td>\n",
       "      <td>2862.0</td>\n",
       "    </tr>\n",
       "    <tr>\n",
       "      <th>1</th>\n",
       "      <td>16690.0</td>\n",
       "      <td>163059.0</td>\n",
       "      <td>7070.0</td>\n",
       "      <td>2503.0</td>\n",
       "      <td>3167.0</td>\n",
       "    </tr>\n",
       "    <tr>\n",
       "      <th>2</th>\n",
       "      <td>9848.0</td>\n",
       "      <td>157395.0</td>\n",
       "      <td>13183.0</td>\n",
       "      <td>2010.0</td>\n",
       "      <td>5893.0</td>\n",
       "    </tr>\n",
       "    <tr>\n",
       "      <th>3</th>\n",
       "      <td>15052.0</td>\n",
       "      <td>154646.0</td>\n",
       "      <td>5376.0</td>\n",
       "      <td>9427.0</td>\n",
       "      <td>3112.0</td>\n",
       "    </tr>\n",
       "  </tbody>\n",
       "</table>\n",
       "</div>"
      ],
      "text/plain": [
       "      tech       Gov   energy  airline    food\n",
       "0  26444.0  153599.0   3682.0   1462.0  2862.0\n",
       "1  16690.0  163059.0   7070.0   2503.0  3167.0\n",
       "2   9848.0  157395.0  13183.0   2010.0  5893.0\n",
       "3  15052.0  154646.0   5376.0   9427.0  3112.0"
      ]
     },
     "execution_count": 22,
     "metadata": {},
     "output_type": "execute_result"
    }
   ],
   "source": [
    "print(\"Cluster centre:\")\n",
    "cSet=np.round(kmeans.cluster_centers_[:,0:len(OrgTypeCategoryEncoder.categoriesIndex)])\n",
    "ClusterCenter = pds.DataFrame(cSet, columns=OrgTypeCategoryEncoder.categoriesIndex)\n",
    "ClusterCenter"
   ]
  },
  {
   "cell_type": "code",
   "execution_count": 23,
   "metadata": {},
   "outputs": [
    {
     "data": {
      "text/plain": [
       "DecisionTreeRegressor(criterion='mse', max_depth=None, max_features=None,\n",
       "           max_leaf_nodes=None, min_impurity_split=1e-07,\n",
       "           min_samples_leaf=1, min_samples_split=2,\n",
       "           min_weight_fraction_leaf=0.0, presort=False, random_state=None,\n",
       "           splitter='best')"
      ]
     },
     "execution_count": 23,
     "metadata": {},
     "output_type": "execute_result"
    }
   ],
   "source": [
    "from sklearn.tree import DecisionTreeRegressor\n",
    "\n",
    "tree_reg = DecisionTreeRegressor()\n",
    "tree_reg.fit(traindata, trainLabelData)"
   ]
  },
  {
   "cell_type": "code",
   "execution_count": 24,
   "metadata": {},
   "outputs": [
    {
     "name": "stdout",
     "output_type": "stream",
     "text": [
      "With a client traded with position in million in the past 330 days\n",
      "Trade notional in millions:\n"
     ]
    },
    {
     "data": {
      "text/html": [
       "<div>\n",
       "<table border=\"1\" class=\"dataframe\">\n",
       "  <thead>\n",
       "    <tr style=\"text-align: right;\">\n",
       "      <th></th>\n",
       "      <th>tech</th>\n",
       "      <th>Gov</th>\n",
       "      <th>energy</th>\n",
       "      <th>airline</th>\n",
       "      <th>food</th>\n",
       "    </tr>\n",
       "  </thead>\n",
       "  <tbody>\n",
       "    <tr>\n",
       "      <th>0</th>\n",
       "      <td>17347.0</td>\n",
       "      <td>160288.0</td>\n",
       "      <td>9444.0</td>\n",
       "      <td>4389.0</td>\n",
       "      <td>454.0</td>\n",
       "    </tr>\n",
       "  </tbody>\n",
       "</table>\n",
       "</div>"
      ],
      "text/plain": [
       "      tech       Gov  energy  airline   food\n",
       "0  17347.0  160288.0  9444.0   4389.0  454.0"
      ]
     },
     "execution_count": 24,
     "metadata": {},
     "output_type": "execute_result"
    }
   ],
   "source": [
    "predictedResult=tree_reg.predict(traindata[0].reshape(1,-1))\n",
    "RegressionResult = pds.DataFrame(predictedResult, columns=OrgTypeCategoryEncoder.categoriesIndex)\n",
    "print ( \"With a client traded with position in million in the past {0} days\".format(trainingDataSize))\n",
    "print ( \"Trade notional in millions:\")\n",
    "pds.DataFrame(traindata[0,0:5].reshape(1,-1), columns=OrgTypeCategoryEncoder.categoriesIndex)"
   ]
  },
  {
   "cell_type": "code",
   "execution_count": 25,
   "metadata": {},
   "outputs": [
    {
     "name": "stdout",
     "output_type": "stream",
     "text": [
      "with number of deals:\n"
     ]
    },
    {
     "data": {
      "text/html": [
       "<div>\n",
       "<table border=\"1\" class=\"dataframe\">\n",
       "  <thead>\n",
       "    <tr style=\"text-align: right;\">\n",
       "      <th></th>\n",
       "      <th>tech</th>\n",
       "      <th>Gov</th>\n",
       "      <th>energy</th>\n",
       "      <th>airline</th>\n",
       "      <th>food</th>\n",
       "    </tr>\n",
       "  </thead>\n",
       "  <tbody>\n",
       "    <tr>\n",
       "      <th>0</th>\n",
       "      <td>33</td>\n",
       "      <td>272</td>\n",
       "      <td>15</td>\n",
       "      <td>9</td>\n",
       "      <td>1</td>\n",
       "    </tr>\n",
       "  </tbody>\n",
       "</table>\n",
       "</div>"
      ],
      "text/plain": [
       "   tech  Gov  energy  airline  food\n",
       "0    33  272      15        9     1"
      ]
     },
     "execution_count": 25,
     "metadata": {},
     "output_type": "execute_result"
    }
   ],
   "source": [
    "print ( \"with number of deals:\")\n",
    "pds.DataFrame(np.int32(traindata[0,5:10].reshape(1,-1)), columns=OrgTypeCategoryEncoder.categoriesIndex)"
   ]
  },
  {
   "cell_type": "code",
   "execution_count": 26,
   "metadata": {},
   "outputs": [
    {
     "name": "stdout",
     "output_type": "stream",
     "text": [
      "Here is the predicted new trade position in million:\n"
     ]
    },
    {
     "data": {
      "text/html": [
       "<div>\n",
       "<table border=\"1\" class=\"dataframe\">\n",
       "  <thead>\n",
       "    <tr style=\"text-align: right;\">\n",
       "      <th></th>\n",
       "      <th>tech</th>\n",
       "      <th>Gov</th>\n",
       "      <th>energy</th>\n",
       "      <th>airline</th>\n",
       "      <th>food</th>\n",
       "    </tr>\n",
       "  </thead>\n",
       "  <tbody>\n",
       "    <tr>\n",
       "      <th>0</th>\n",
       "      <td>0.0</td>\n",
       "      <td>15286.0</td>\n",
       "      <td>2365.0</td>\n",
       "      <td>0.0</td>\n",
       "      <td>0.0</td>\n",
       "    </tr>\n",
       "  </tbody>\n",
       "</table>\n",
       "</div>"
      ],
      "text/plain": [
       "   tech      Gov  energy  airline  food\n",
       "0   0.0  15286.0  2365.0      0.0   0.0"
      ]
     },
     "execution_count": 26,
     "metadata": {},
     "output_type": "execute_result"
    }
   ],
   "source": [
    "print (\"Here is the predicted new trade position in million:\")\n",
    "RegressionResult"
   ]
  },
  {
   "cell_type": "code",
   "execution_count": null,
   "metadata": {
    "collapsed": true
   },
   "outputs": [],
   "source": []
  },
  {
   "cell_type": "code",
   "execution_count": null,
   "metadata": {
    "collapsed": true
   },
   "outputs": [],
   "source": []
  },
  {
   "cell_type": "code",
   "execution_count": null,
   "metadata": {
    "collapsed": true
   },
   "outputs": [],
   "source": []
  },
  {
   "cell_type": "code",
   "execution_count": null,
   "metadata": {
    "collapsed": true
   },
   "outputs": [],
   "source": []
  },
  {
   "cell_type": "code",
   "execution_count": null,
   "metadata": {
    "collapsed": true
   },
   "outputs": [],
   "source": []
  },
  {
   "cell_type": "code",
   "execution_count": null,
   "metadata": {
    "collapsed": true
   },
   "outputs": [],
   "source": []
  },
  {
   "cell_type": "code",
   "execution_count": null,
   "metadata": {
    "collapsed": true
   },
   "outputs": [],
   "source": []
  },
  {
   "cell_type": "code",
   "execution_count": 27,
   "metadata": {
    "collapsed": true
   },
   "outputs": [],
   "source": [
    "XX=pds.DataFrame(traindata[:,0:5], columns=OrgTypeCategoryEncoder.categoriesIndex)\n",
    "YY=pds.DataFrame(trainLabelData, columns=OrgTypeCategoryEncoder.categoriesIndex)"
   ]
  },
  {
   "cell_type": "code",
   "execution_count": 28,
   "metadata": {},
   "outputs": [
    {
     "data": {
      "text/html": [
       "<div>\n",
       "<table border=\"1\" class=\"dataframe\">\n",
       "  <thead>\n",
       "    <tr style=\"text-align: right;\">\n",
       "      <th></th>\n",
       "      <th>tech</th>\n",
       "      <th>Gov</th>\n",
       "      <th>energy</th>\n",
       "      <th>airline</th>\n",
       "      <th>food</th>\n",
       "    </tr>\n",
       "  </thead>\n",
       "  <tbody>\n",
       "    <tr>\n",
       "      <th>count</th>\n",
       "      <td>100.000000</td>\n",
       "      <td>100.000000</td>\n",
       "      <td>100.000000</td>\n",
       "      <td>100.000000</td>\n",
       "      <td>100.000000</td>\n",
       "    </tr>\n",
       "    <tr>\n",
       "      <th>mean</th>\n",
       "      <td>16804.320312</td>\n",
       "      <td>157604.421875</td>\n",
       "      <td>7646.569824</td>\n",
       "      <td>3430.520020</td>\n",
       "      <td>3846.429932</td>\n",
       "    </tr>\n",
       "    <tr>\n",
       "      <th>std</th>\n",
       "      <td>7198.029785</td>\n",
       "      <td>5813.004883</td>\n",
       "      <td>5345.291016</td>\n",
       "      <td>4327.032715</td>\n",
       "      <td>4349.818848</td>\n",
       "    </tr>\n",
       "    <tr>\n",
       "      <th>min</th>\n",
       "      <td>1821.000000</td>\n",
       "      <td>143232.000000</td>\n",
       "      <td>0.000000</td>\n",
       "      <td>0.000000</td>\n",
       "      <td>0.000000</td>\n",
       "    </tr>\n",
       "    <tr>\n",
       "      <th>25%</th>\n",
       "      <td>12102.500000</td>\n",
       "      <td>154244.750000</td>\n",
       "      <td>3879.250000</td>\n",
       "      <td>0.000000</td>\n",
       "      <td>0.000000</td>\n",
       "    </tr>\n",
       "    <tr>\n",
       "      <th>50%</th>\n",
       "      <td>16611.500000</td>\n",
       "      <td>157470.500000</td>\n",
       "      <td>7171.000000</td>\n",
       "      <td>2031.500000</td>\n",
       "      <td>2083.000000</td>\n",
       "    </tr>\n",
       "    <tr>\n",
       "      <th>75%</th>\n",
       "      <td>20328.750000</td>\n",
       "      <td>161184.000000</td>\n",
       "      <td>9917.750000</td>\n",
       "      <td>4517.000000</td>\n",
       "      <td>5995.750000</td>\n",
       "    </tr>\n",
       "    <tr>\n",
       "      <th>max</th>\n",
       "      <td>33983.000000</td>\n",
       "      <td>172901.000000</td>\n",
       "      <td>25122.000000</td>\n",
       "      <td>18466.000000</td>\n",
       "      <td>20704.000000</td>\n",
       "    </tr>\n",
       "  </tbody>\n",
       "</table>\n",
       "</div>"
      ],
      "text/plain": [
       "               tech            Gov        energy       airline          food\n",
       "count    100.000000     100.000000    100.000000    100.000000    100.000000\n",
       "mean   16804.320312  157604.421875   7646.569824   3430.520020   3846.429932\n",
       "std     7198.029785    5813.004883   5345.291016   4327.032715   4349.818848\n",
       "min     1821.000000  143232.000000      0.000000      0.000000      0.000000\n",
       "25%    12102.500000  154244.750000   3879.250000      0.000000      0.000000\n",
       "50%    16611.500000  157470.500000   7171.000000   2031.500000   2083.000000\n",
       "75%    20328.750000  161184.000000   9917.750000   4517.000000   5995.750000\n",
       "max    33983.000000  172901.000000  25122.000000  18466.000000  20704.000000"
      ]
     },
     "execution_count": 28,
     "metadata": {},
     "output_type": "execute_result"
    }
   ],
   "source": [
    "XX.describe()"
   ]
  },
  {
   "cell_type": "code",
   "execution_count": 29,
   "metadata": {},
   "outputs": [
    {
     "data": {
      "text/html": [
       "<div>\n",
       "<table border=\"1\" class=\"dataframe\">\n",
       "  <thead>\n",
       "    <tr style=\"text-align: right;\">\n",
       "      <th></th>\n",
       "      <th>tech</th>\n",
       "      <th>Gov</th>\n",
       "      <th>energy</th>\n",
       "      <th>airline</th>\n",
       "      <th>food</th>\n",
       "    </tr>\n",
       "  </thead>\n",
       "  <tbody>\n",
       "    <tr>\n",
       "      <th>count</th>\n",
       "      <td>100.000000</td>\n",
       "      <td>100.000000</td>\n",
       "      <td>100.000000</td>\n",
       "      <td>100.000000</td>\n",
       "      <td>100.000000</td>\n",
       "    </tr>\n",
       "    <tr>\n",
       "      <th>mean</th>\n",
       "      <td>1202.829956</td>\n",
       "      <td>14421.889648</td>\n",
       "      <td>930.090027</td>\n",
       "      <td>253.410004</td>\n",
       "      <td>256.760010</td>\n",
       "    </tr>\n",
       "    <tr>\n",
       "      <th>std</th>\n",
       "      <td>1243.159912</td>\n",
       "      <td>1750.188599</td>\n",
       "      <td>1251.720947</td>\n",
       "      <td>719.480408</td>\n",
       "      <td>623.148254</td>\n",
       "    </tr>\n",
       "    <tr>\n",
       "      <th>min</th>\n",
       "      <td>0.000000</td>\n",
       "      <td>10553.000000</td>\n",
       "      <td>0.000000</td>\n",
       "      <td>0.000000</td>\n",
       "      <td>0.000000</td>\n",
       "    </tr>\n",
       "    <tr>\n",
       "      <th>25%</th>\n",
       "      <td>0.000000</td>\n",
       "      <td>13103.000000</td>\n",
       "      <td>0.000000</td>\n",
       "      <td>0.000000</td>\n",
       "      <td>0.000000</td>\n",
       "    </tr>\n",
       "    <tr>\n",
       "      <th>50%</th>\n",
       "      <td>932.000000</td>\n",
       "      <td>14400.000000</td>\n",
       "      <td>108.500000</td>\n",
       "      <td>0.000000</td>\n",
       "      <td>0.000000</td>\n",
       "    </tr>\n",
       "    <tr>\n",
       "      <th>75%</th>\n",
       "      <td>2042.000000</td>\n",
       "      <td>15497.000000</td>\n",
       "      <td>1638.500000</td>\n",
       "      <td>0.000000</td>\n",
       "      <td>0.000000</td>\n",
       "    </tr>\n",
       "    <tr>\n",
       "      <th>max</th>\n",
       "      <td>5330.000000</td>\n",
       "      <td>18306.000000</td>\n",
       "      <td>4685.000000</td>\n",
       "      <td>3932.000000</td>\n",
       "      <td>2894.000000</td>\n",
       "    </tr>\n",
       "  </tbody>\n",
       "</table>\n",
       "</div>"
      ],
      "text/plain": [
       "              tech           Gov       energy      airline         food\n",
       "count   100.000000    100.000000   100.000000   100.000000   100.000000\n",
       "mean   1202.829956  14421.889648   930.090027   253.410004   256.760010\n",
       "std    1243.159912   1750.188599  1251.720947   719.480408   623.148254\n",
       "min       0.000000  10553.000000     0.000000     0.000000     0.000000\n",
       "25%       0.000000  13103.000000     0.000000     0.000000     0.000000\n",
       "50%     932.000000  14400.000000   108.500000     0.000000     0.000000\n",
       "75%    2042.000000  15497.000000  1638.500000     0.000000     0.000000\n",
       "max    5330.000000  18306.000000  4685.000000  3932.000000  2894.000000"
      ]
     },
     "execution_count": 29,
     "metadata": {},
     "output_type": "execute_result"
    }
   ],
   "source": [
    "YY.describe()"
   ]
  },
  {
   "cell_type": "code",
   "execution_count": null,
   "metadata": {
    "collapsed": true
   },
   "outputs": [],
   "source": []
  }
 ],
 "metadata": {
  "kernelspec": {
   "display_name": "Python 3",
   "language": "python",
   "name": "python3"
  },
  "language_info": {
   "codemirror_mode": {
    "name": "ipython",
    "version": 3
   },
   "file_extension": ".py",
   "mimetype": "text/x-python",
   "name": "python",
   "nbconvert_exporter": "python",
   "pygments_lexer": "ipython3",
   "version": "3.6.2"
  }
 },
 "nbformat": 4,
 "nbformat_minor": 2
}
